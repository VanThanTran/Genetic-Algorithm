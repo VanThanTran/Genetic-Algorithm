{
  "nbformat": 4,
  "nbformat_minor": 5,
  "metadata": {
    "kernelspec": {
      "display_name": "Python 3",
      "language": "python",
      "name": "python3"
    },
    "language_info": {
      "codemirror_mode": {
        "name": "ipython",
        "version": 3
      },
      "file_extension": ".py",
      "mimetype": "text/x-python",
      "name": "python",
      "nbconvert_exporter": "python",
      "pygments_lexer": "ipython3",
      "version": "3.8.8"
    },
    "colab": {
      "name": "GA_OneMax_StepByStep.ipynb",
      "provenance": [],
      "collapsed_sections": []
    }
  },
  "cells": [
    {
      "cell_type": "code",
      "metadata": {
        "id": "935405bd",
        "colab": {
          "base_uri": "https://localhost:8080/"
        },
        "outputId": "b7ae0c9e-cc3b-4786-8c20-bbb9328b04ff"
      },
      "source": [
        "# generate random numbers in {0,1}\n",
        "\n",
        "import random\n",
        "\n",
        "for _ in range(10):\n",
        "    print(random.randint(0, 1))"
      ],
      "id": "935405bd",
      "execution_count": 1,
      "outputs": [
        {
          "output_type": "stream",
          "name": "stdout",
          "text": [
            "0\n",
            "1\n",
            "0\n",
            "0\n",
            "0\n",
            "0\n",
            "1\n",
            "0\n",
            "0\n",
            "1\n"
          ]
        }
      ]
    },
    {
      "cell_type": "code",
      "metadata": {
        "id": "313894f3"
      },
      "source": [
        ""
      ],
      "id": "313894f3",
      "execution_count": 1,
      "outputs": []
    },
    {
      "cell_type": "code",
      "metadata": {
        "id": "879451a5",
        "colab": {
          "base_uri": "https://localhost:8080/"
        },
        "outputId": "58f4c3f5-4c4d-4436-c247-cad4f0817982"
      },
      "source": [
        "# generate random numbers in {0,1}\n",
        "import random\n",
        "\n",
        "# uniform distribution\n",
        "def generate_random_value():\n",
        "    return random.randint(0, 1)\n",
        "\n",
        "for _ in range(10):\n",
        "    print(generate_random_value())"
      ],
      "id": "879451a5",
      "execution_count": 2,
      "outputs": [
        {
          "output_type": "stream",
          "name": "stdout",
          "text": [
            "0\n",
            "1\n",
            "1\n",
            "1\n",
            "0\n",
            "0\n",
            "0\n",
            "0\n",
            "0\n",
            "1\n"
          ]
        }
      ]
    },
    {
      "cell_type": "code",
      "metadata": {
        "id": "dc716efb"
      },
      "source": [
        ""
      ],
      "id": "dc716efb",
      "execution_count": 2,
      "outputs": []
    },
    {
      "cell_type": "code",
      "metadata": {
        "id": "5131585e",
        "colab": {
          "base_uri": "https://localhost:8080/"
        },
        "outputId": "487aa74a-dacd-4788-b248-19d530b88276"
      },
      "source": [
        "# create chromosome\n",
        "\n",
        "import random\n",
        "\n",
        "# uniform distribution\n",
        "def generate_random_value():\n",
        "    return random.randint(0, 1)\n",
        "\n",
        "# n: size of chromosome\n",
        "def create_chromosome(n=10):\n",
        "    return [generate_random_value() for _ in range(n)]\n",
        "\n",
        "individual = create_chromosome()\n",
        "print(individual)"
      ],
      "id": "5131585e",
      "execution_count": 3,
      "outputs": [
        {
          "output_type": "stream",
          "name": "stdout",
          "text": [
            "[0, 1, 0, 0, 0, 0, 1, 0, 1, 1]\n"
          ]
        }
      ]
    },
    {
      "cell_type": "code",
      "metadata": {
        "id": "ec413c08"
      },
      "source": [
        ""
      ],
      "id": "ec413c08",
      "execution_count": 3,
      "outputs": []
    },
    {
      "cell_type": "code",
      "metadata": {
        "id": "5ade3eb3",
        "colab": {
          "base_uri": "https://localhost:8080/"
        },
        "outputId": "0915a906-17fe-47fe-bdf1-e0514ac6609b"
      },
      "source": [
        "# create a population\n",
        "\n",
        "# m: size of population\n",
        "def create_population(m=8):\n",
        "    return [create_chromosome() for _ in range(m)]\n",
        "\n",
        "# print population\n",
        "def print_population(population, m=8):\n",
        "    for i in range(m):\n",
        "        print(population[i])\n",
        "        \n",
        "population = create_population()\n",
        "print_population(population)"
      ],
      "id": "5ade3eb3",
      "execution_count": 4,
      "outputs": [
        {
          "output_type": "stream",
          "name": "stdout",
          "text": [
            "[0, 1, 0, 1, 1, 0, 0, 0, 0, 0]\n",
            "[0, 0, 0, 0, 0, 1, 1, 1, 0, 0]\n",
            "[0, 0, 0, 0, 1, 0, 0, 0, 1, 1]\n",
            "[1, 1, 1, 0, 0, 1, 1, 1, 1, 0]\n",
            "[0, 0, 1, 0, 1, 1, 1, 1, 0, 0]\n",
            "[0, 0, 0, 1, 1, 0, 0, 0, 0, 1]\n",
            "[1, 0, 1, 0, 0, 1, 0, 0, 0, 1]\n",
            "[0, 0, 1, 0, 1, 0, 0, 1, 1, 0]\n"
          ]
        }
      ]
    },
    {
      "cell_type": "code",
      "metadata": {
        "id": "8a33c96e"
      },
      "source": [
        ""
      ],
      "id": "8a33c96e",
      "execution_count": 4,
      "outputs": []
    },
    {
      "cell_type": "code",
      "metadata": {
        "id": "3febe646",
        "colab": {
          "base_uri": "https://localhost:8080/"
        },
        "outputId": "b293b09b-9928-4932-a221-8e1c6b20a7bd"
      },
      "source": [
        "# Evaluate function: User-defined function\n",
        "\n",
        "def evaluate(individual):\n",
        "    return sum(individual)\n",
        "\n",
        "m = 8\n",
        "for i in range(m):\n",
        "    print(population[i], evaluate(population[i]))"
      ],
      "id": "3febe646",
      "execution_count": 5,
      "outputs": [
        {
          "output_type": "stream",
          "name": "stdout",
          "text": [
            "[0, 1, 0, 1, 1, 0, 0, 0, 0, 0] 3\n",
            "[0, 0, 0, 0, 0, 1, 1, 1, 0, 0] 3\n",
            "[0, 0, 0, 0, 1, 0, 0, 0, 1, 1] 3\n",
            "[1, 1, 1, 0, 0, 1, 1, 1, 1, 0] 7\n",
            "[0, 0, 1, 0, 1, 1, 1, 1, 0, 0] 5\n",
            "[0, 0, 0, 1, 1, 0, 0, 0, 0, 1] 3\n",
            "[1, 0, 1, 0, 0, 1, 0, 0, 0, 1] 4\n",
            "[0, 0, 1, 0, 1, 0, 0, 1, 1, 0] 4\n"
          ]
        }
      ]
    },
    {
      "cell_type": "code",
      "metadata": {
        "id": "8000fd11"
      },
      "source": [
        ""
      ],
      "id": "8000fd11",
      "execution_count": 5,
      "outputs": []
    },
    {
      "cell_type": "code",
      "metadata": {
        "id": "87f8a295",
        "colab": {
          "base_uri": "https://localhost:8080/"
        },
        "outputId": "5e645f59-1dac-4fc4-d294-0feb1daa0559"
      },
      "source": [
        "# sorting\n",
        "\n",
        "a_list = [2, 5, 6, 3, 9]\n",
        "a_list = sorted(a_list)\n",
        "print(a_list)"
      ],
      "id": "87f8a295",
      "execution_count": 6,
      "outputs": [
        {
          "output_type": "stream",
          "name": "stdout",
          "text": [
            "[2, 3, 5, 6, 9]\n"
          ]
        }
      ]
    },
    {
      "cell_type": "code",
      "metadata": {
        "id": "Y-WN9jwPW5W1"
      },
      "source": [
        ""
      ],
      "id": "Y-WN9jwPW5W1",
      "execution_count": 6,
      "outputs": []
    },
    {
      "cell_type": "code",
      "metadata": {
        "id": "158748c7",
        "colab": {
          "base_uri": "https://localhost:8080/"
        },
        "outputId": "86896b22-9658-4e4d-fd87-bd679d0d18f1"
      },
      "source": [
        "a_list = [[2, 6],\n",
        "          [1, 9],\n",
        "          [7, 4],\n",
        "          [9, 8],\n",
        "          [5, 5]]\n",
        "a_list = sorted(a_list)\n",
        "print(a_list)"
      ],
      "id": "158748c7",
      "execution_count": 7,
      "outputs": [
        {
          "output_type": "stream",
          "name": "stdout",
          "text": [
            "[[1, 9], [2, 6], [5, 5], [7, 4], [9, 8]]\n"
          ]
        }
      ]
    },
    {
      "cell_type": "code",
      "metadata": {
        "id": "aP0QNaRnXBMm"
      },
      "source": [
        ""
      ],
      "id": "aP0QNaRnXBMm",
      "execution_count": 7,
      "outputs": []
    },
    {
      "cell_type": "code",
      "metadata": {
        "id": "8500f7d3",
        "colab": {
          "base_uri": "https://localhost:8080/"
        },
        "outputId": "cc0153d8-ecb4-4f26-ae72-7aced1a7de12"
      },
      "source": [
        "def indicator(list_element):\n",
        "    return -list_element\n",
        "\n",
        "a_list = [2, 5, 6, 3, 9]\n",
        "a_list = sorted(a_list, key=indicator)\n",
        "print(a_list)"
      ],
      "id": "8500f7d3",
      "execution_count": 8,
      "outputs": [
        {
          "output_type": "stream",
          "name": "stdout",
          "text": [
            "[9, 6, 5, 3, 2]\n"
          ]
        }
      ]
    },
    {
      "cell_type": "code",
      "metadata": {
        "id": "WX0Rek-BXK-V"
      },
      "source": [
        ""
      ],
      "id": "WX0Rek-BXK-V",
      "execution_count": 8,
      "outputs": []
    },
    {
      "cell_type": "code",
      "metadata": {
        "id": "5724bbd2",
        "colab": {
          "base_uri": "https://localhost:8080/"
        },
        "outputId": "2f1b9ff6-2482-42f7-c30b-51dfe772934f"
      },
      "source": [
        "def indicator(list_element):\n",
        "    return sum(list_element)\n",
        "\n",
        "a_list = [[2, 6],\n",
        "          [1, 9],\n",
        "          [7, 4],\n",
        "          [9, 8],\n",
        "          [5, 5]]\n",
        "a_list = sorted(a_list, key=indicator)\n",
        "print(a_list)"
      ],
      "id": "5724bbd2",
      "execution_count": 9,
      "outputs": [
        {
          "output_type": "stream",
          "name": "stdout",
          "text": [
            "[[2, 6], [1, 9], [5, 5], [7, 4], [9, 8]]\n"
          ]
        }
      ]
    },
    {
      "cell_type": "code",
      "metadata": {
        "id": "7bd5de87"
      },
      "source": [
        ""
      ],
      "id": "7bd5de87",
      "execution_count": 9,
      "outputs": []
    },
    {
      "cell_type": "code",
      "metadata": {
        "id": "fc149f4e",
        "colab": {
          "base_uri": "https://localhost:8080/"
        },
        "outputId": "481f69ac-540a-468f-e984-15855de7d2df"
      },
      "source": [
        "# sort population\n",
        "population_sorted = sorted(population, key=evaluate)\n",
        "\n",
        "# print population\n",
        "for i in range(m):\n",
        "    print(population_sorted[i], evaluate(population_sorted[i]))"
      ],
      "id": "fc149f4e",
      "execution_count": 10,
      "outputs": [
        {
          "output_type": "stream",
          "name": "stdout",
          "text": [
            "[0, 1, 0, 1, 1, 0, 0, 0, 0, 0] 3\n",
            "[0, 0, 0, 0, 0, 1, 1, 1, 0, 0] 3\n",
            "[0, 0, 0, 0, 1, 0, 0, 0, 1, 1] 3\n",
            "[0, 0, 0, 1, 1, 0, 0, 0, 0, 1] 3\n",
            "[1, 0, 1, 0, 0, 1, 0, 0, 0, 1] 4\n",
            "[0, 0, 1, 0, 1, 0, 0, 1, 1, 0] 4\n",
            "[0, 0, 1, 0, 1, 1, 1, 1, 0, 0] 5\n",
            "[1, 1, 1, 0, 0, 1, 1, 1, 1, 0] 7\n"
          ]
        }
      ]
    },
    {
      "cell_type": "code",
      "metadata": {
        "id": "bbed5bc1"
      },
      "source": [
        ""
      ],
      "id": "bbed5bc1",
      "execution_count": 10,
      "outputs": []
    },
    {
      "cell_type": "code",
      "metadata": {
        "id": "0fedac69",
        "colab": {
          "base_uri": "https://localhost:8080/"
        },
        "outputId": "3cf88ba9-f0e5-430b-986d-5cff6f478cdf"
      },
      "source": [
        "# selection: get 2 different indices; index in [0,7]\n",
        "\n",
        "def generate_two_indices():\n",
        "    index1 = random.randint(0,7)\n",
        "    index2 = random.randint(0,7)\n",
        "    \n",
        "    # generate until index1!=index2\n",
        "    while True:\n",
        "        if index1==index2:\n",
        "            index2 = random.randint(0,7)\n",
        "        else:\n",
        "            break\n",
        "            \n",
        "    return index1, index2\n",
        "\n",
        "# test\n",
        "index1, index2 = generate_two_indices()\n",
        "print(index1, index2)"
      ],
      "id": "0fedac69",
      "execution_count": 11,
      "outputs": [
        {
          "output_type": "stream",
          "name": "stdout",
          "text": [
            "5 6\n"
          ]
        }
      ]
    },
    {
      "cell_type": "code",
      "metadata": {
        "id": "40d1b4b6",
        "colab": {
          "base_uri": "https://localhost:8080/"
        },
        "outputId": "44cc46f5-353d-4bec-b07c-5cc6252bc73d"
      },
      "source": [
        "# selection: get 2 different indices; index in [0,7]\n",
        "\n",
        "def generate_two_indices():\n",
        "    index1 = random.randint(0,7)\n",
        "    index2 = random.randint(0,7)\n",
        "    \n",
        "    # generate until index1!=index2\n",
        "    while index1 == index2:\n",
        "        index2 = random.randint(0,7)\n",
        "            \n",
        "    return index1, index2\n",
        "\n",
        "# test\n",
        "index1, index2 = generate_two_indices()\n",
        "print(index1, index2)"
      ],
      "id": "40d1b4b6",
      "execution_count": 12,
      "outputs": [
        {
          "output_type": "stream",
          "name": "stdout",
          "text": [
            "7 2\n"
          ]
        }
      ]
    },
    {
      "cell_type": "code",
      "metadata": {
        "id": "4e22cea9"
      },
      "source": [
        ""
      ],
      "id": "4e22cea9",
      "execution_count": 12,
      "outputs": []
    },
    {
      "cell_type": "code",
      "metadata": {
        "id": "397c2e4d",
        "colab": {
          "base_uri": "https://localhost:8080/"
        },
        "outputId": "e4dfcc02-c9d9-4c04-cfb7-a284298a6c30"
      },
      "source": [
        "# selection a better chromosome\n",
        "\n",
        "def select_individual():\n",
        "    index1, index2 = generate_two_indices()\n",
        "    if index1 > index2:\n",
        "        individual = population_sorted[index1]\n",
        "    else:\n",
        "        individual = population_sorted[index2]\n",
        "        \n",
        "    return individual\n",
        "\n",
        "# test\n",
        "individual = select_individual()\n",
        "print(individual, evaluate(individual))"
      ],
      "id": "397c2e4d",
      "execution_count": 13,
      "outputs": [
        {
          "output_type": "stream",
          "name": "stdout",
          "text": [
            "[1, 1, 1, 0, 0, 1, 1, 1, 1, 0] 7\n"
          ]
        }
      ]
    },
    {
      "cell_type": "code",
      "metadata": {
        "id": "01f7a3b5"
      },
      "source": [
        ""
      ],
      "id": "01f7a3b5",
      "execution_count": 13,
      "outputs": []
    },
    {
      "cell_type": "code",
      "metadata": {
        "id": "0a007e67",
        "colab": {
          "base_uri": "https://localhost:8080/"
        },
        "outputId": "9ca51816-d8e0-462a-f152-7d7018688f6a"
      },
      "source": [
        "# crossover\n",
        "individual1 = population_sorted[3]\n",
        "individual2 = population_sorted[4]\n",
        "crossover_rate = 0.8\n",
        "n = 10\n",
        "\n",
        "def crossover(individual1, individual2, crossover_rate = 0.8):\n",
        "    individual1_new = individual1.copy()\n",
        "    individual2_new = individual2.copy()\n",
        "\n",
        "    for i in range(n):    \n",
        "        if random.random() < crossover_rate:\n",
        "            individual1_new[i] = individual2[i]\n",
        "            individual2_new[i] = individual1[i]\n",
        "            \n",
        "    return individual1_new, individual2_new\n",
        "        \n",
        "print('before crossover')\n",
        "print(individual1)\n",
        "print(individual2)\n",
        "\n",
        "print('after crossover')\n",
        "individual1_new, individual2_new = crossover(individual1, individual2)\n",
        "print(individual1_new)\n",
        "print(individual2_new)"
      ],
      "id": "0a007e67",
      "execution_count": 14,
      "outputs": [
        {
          "output_type": "stream",
          "name": "stdout",
          "text": [
            "before crossover\n",
            "[0, 0, 0, 1, 1, 0, 0, 0, 0, 1]\n",
            "[1, 0, 1, 0, 0, 1, 0, 0, 0, 1]\n",
            "after crossover\n",
            "[1, 0, 1, 0, 0, 1, 0, 0, 0, 1]\n",
            "[0, 0, 0, 1, 1, 0, 0, 0, 0, 1]\n"
          ]
        }
      ]
    },
    {
      "cell_type": "code",
      "metadata": {
        "id": "874627eb"
      },
      "source": [
        ""
      ],
      "id": "874627eb",
      "execution_count": 14,
      "outputs": []
    },
    {
      "cell_type": "code",
      "metadata": {
        "id": "2d2dbc9a",
        "colab": {
          "base_uri": "https://localhost:8080/"
        },
        "outputId": "d247c865-e46f-485a-a1ef-5d8168bab83f"
      },
      "source": [
        "# mutate\n",
        "\n",
        "def mutate(individual, mutation_rate=0.1):\n",
        "    individual_mut = individual.copy()\n",
        "    for i in range(n):    \n",
        "        if random.random() < mutation_rate:\n",
        "            print(i)\n",
        "            individual_mut[i] = generate_random_value()\n",
        "            \n",
        "    return individual_mut\n",
        "\n",
        "individual = population_sorted[3]\n",
        "individual_mut = mutate(individual)\n",
        "print(individual)\n",
        "print(individual_mut)"
      ],
      "id": "2d2dbc9a",
      "execution_count": 15,
      "outputs": [
        {
          "output_type": "stream",
          "name": "stdout",
          "text": [
            "7\n",
            "[0, 0, 0, 1, 1, 0, 0, 0, 0, 1]\n",
            "[0, 0, 0, 1, 1, 0, 0, 0, 0, 1]\n"
          ]
        }
      ]
    },
    {
      "cell_type": "code",
      "metadata": {
        "id": "f514a925"
      },
      "source": [
        ""
      ],
      "id": "f514a925",
      "execution_count": 15,
      "outputs": []
    },
    {
      "cell_type": "code",
      "metadata": {
        "id": "ab00b858",
        "colab": {
          "base_uri": "https://localhost:8080/"
        },
        "outputId": "f408b5b5-acc8-4266-be43-4fbcef8d7088"
      },
      "source": [
        "# Chương trình cài đặt với mục đích dễ hiểu\n",
        "# Nhiều chỗ có thể cải tiến về mặt computation và memory\n",
        "\n",
        "\n",
        "import random\n",
        "\n",
        "n = 30                 # size of individual (chromosome)\n",
        "m = 100                # size of population\n",
        "\n",
        "# generate a feasible value\n",
        "def generate_random_value():\n",
        "    return random.randint(0, 1)\n",
        "\n",
        "def create_individual():\n",
        "    return [generate_random_value() for _ in range(n)]\n",
        "\n",
        "# evaluate an individual\n",
        "def compute_fitness(individual):\n",
        "    return sum(individual)\n",
        "\n",
        "# crossover\n",
        "def crossover(individual1, individual2, crossover_rate=0.9):\n",
        "    individual1_new = individual1.copy()\n",
        "    individual2_new = individual2.copy()\n",
        "    \n",
        "    for i in range(n):\n",
        "        if random.random() < crossover_rate:\n",
        "            individual1_new[i] = individual2[i]\n",
        "            individual2_new[i] = individual1[i]            \n",
        "    \n",
        "    return individual1_new, individual2_new\n",
        "\n",
        "# mutatation\n",
        "def mutate(individual, mutation_rate=0.05):\n",
        "    individual_m = individual.copy()\n",
        "    \n",
        "    for i in range(n):\n",
        "        if random.random() < mutation_rate:\n",
        "            individual_m[i] = generate_random_value()\n",
        "        \n",
        "    return individual_m\n",
        "\n",
        "# selection; input population is sorted according to fitnesses\n",
        "def selection(sorted_old_population):    \n",
        "    index1 = random.randint(0, m-1)\n",
        "    index2 = random.randint(0, m-1) \n",
        "    \n",
        "    # check until index2 != index1\n",
        "    while index2 == index1:\n",
        "        index2 = random.randint(0, m-1) \n",
        "            \n",
        "    individual_s = sorted_old_population[index1]\n",
        "    if index2 > index1:\n",
        "        individual_s = sorted_old_population[index2]\n",
        "    \n",
        "    return individual_s \n",
        "\n",
        "\n",
        "##### algorithm\n",
        "# step 1: create initial population\n",
        "population = [create_individual() for _ in range(m)]\n",
        "\n",
        "#==== loops\n",
        "n_generations = 30     # number of generations\n",
        "elitism = 2\n",
        "for i in range(n_generations):\n",
        "    # step 2: sort population\n",
        "    sorted_population = sorted(population, key=compute_fitness)\n",
        "        \n",
        "    # for debug\n",
        "    print(\"BEST:\", compute_fitness(sorted_population[m-1]))\n",
        "    \n",
        "    # elitism\n",
        "    new_population = sorted_population[-elitism:]\n",
        "\n",
        "    while len(new_population) < m:\n",
        "        # step 3: selection\n",
        "        individual_s1 = selection(sorted_population)\n",
        "        individual_s2 = selection(sorted_population) # duplication\n",
        "        \n",
        "        # step 4: crossover\n",
        "        individual_c1, individual_c2 = crossover(individual_s1, individual_s2)\n",
        "        \n",
        "        # step 5: mutation\n",
        "        individual_m1 = mutate(individual_c1)\n",
        "        individual_m2 = mutate(individual_c2)\n",
        "        \n",
        "        # copy to new population\n",
        "        new_population.append(individual_m1)\n",
        "        new_population.append(individual_m2)\n",
        "        \n",
        "    # update population\n",
        "    population = new_population"
      ],
      "id": "ab00b858",
      "execution_count": 35,
      "outputs": [
        {
          "output_type": "stream",
          "name": "stdout",
          "text": [
            "BEST: 22\n",
            "BEST: 22\n",
            "BEST: 23\n",
            "BEST: 23\n",
            "BEST: 23\n",
            "BEST: 25\n",
            "BEST: 25\n",
            "BEST: 25\n",
            "BEST: 25\n",
            "BEST: 26\n",
            "BEST: 26\n",
            "BEST: 27\n",
            "BEST: 27\n",
            "BEST: 27\n",
            "BEST: 28\n",
            "BEST: 28\n",
            "BEST: 28\n",
            "BEST: 29\n",
            "BEST: 29\n",
            "BEST: 29\n",
            "BEST: 29\n",
            "BEST: 30\n",
            "BEST: 30\n",
            "BEST: 30\n",
            "BEST: 30\n",
            "BEST: 30\n",
            "BEST: 30\n",
            "BEST: 30\n",
            "BEST: 30\n",
            "BEST: 30\n"
          ]
        }
      ]
    },
    {
      "cell_type": "code",
      "metadata": {
        "id": "f94b80c3"
      },
      "source": [
        ""
      ],
      "id": "f94b80c3",
      "execution_count": 27,
      "outputs": []
    },
    {
      "cell_type": "code",
      "metadata": {
        "id": "fb3ace4b",
        "colab": {
          "base_uri": "https://localhost:8080/"
        },
        "outputId": "b1ef9113-0336-4279-eb9f-f75cdab4ae11"
      },
      "source": [
        "# Chương trình cài đặt với mục đích dễ hiểu\n",
        "# Nhiều chỗ có thể cải tiến về mặt computation và memory\n",
        "\n",
        "import random\n",
        "\n",
        "n = 30                 # size of individual (chromosome)\n",
        "m = 100                # size of population\n",
        "\n",
        "# để vẽ biểu đồ quá trình tối ưu\n",
        "fitnesses = []\n",
        "\n",
        "# generate a feasible value\n",
        "def generate_random_value():\n",
        "    return random.randint(0, 1)\n",
        "\n",
        "def create_individual():\n",
        "    return [generate_random_value() for _ in range(n)]\n",
        "\n",
        "# evaluate an individual\n",
        "def compute_fitness(individual):\n",
        "    return sum(individual)\n",
        "\n",
        "# crossover\n",
        "def crossover(individual1, individual2, crossover_rate=0.9):\n",
        "    individual1_new = individual1.copy()\n",
        "    individual2_new = individual2.copy()\n",
        "    \n",
        "    for i in range(n):\n",
        "        if random.random() < crossover_rate:\n",
        "            individual1_new[i] = individual2[i]\n",
        "            individual2_new[i] = individual1[i]            \n",
        "    \n",
        "    return individual1_new, individual2_new\n",
        "\n",
        "# mutatation\n",
        "def mutate(individual, mutation_rate=0.05):\n",
        "    individual_m = individual.copy()\n",
        "    \n",
        "    for i in range(n):\n",
        "        if random.random() < mutation_rate:\n",
        "            individual_m[i] = generate_random_value()\n",
        "        \n",
        "    return individual_m\n",
        "\n",
        "# selection; input population is sorted according to fitnesses\n",
        "def selection(sorted_old_population):    \n",
        "    index1 = random.randint(0, m-1)\n",
        "    index2 = random.randint(0, m-1)\n",
        "    \n",
        "    # check until index2 != index1\n",
        "    while index2 == index1:\n",
        "        index2 = random.randint(0, m-1)\n",
        "            \n",
        "    individual_s = sorted_old_population[index1]\n",
        "    if index2 > index1:\n",
        "        individual_s = sorted_old_population[index2]\n",
        "    \n",
        "    return individual_s \n",
        "\n",
        "\n",
        "##### algorithm\n",
        "# step 1: create initial population\n",
        "population = [create_individual() for _ in range(m)]\n",
        "\n",
        "#==== loops\n",
        "n_generations = 30     # number of generations\n",
        "for i in range(n_generations):\n",
        "    # step 2: sort population\n",
        "    sorted_population = sorted(population, key=compute_fitness)\n",
        "    \n",
        "    # for debug\n",
        "    fitnesses.append(compute_fitness(sorted_population[m-1]))\n",
        "    print(\"BEST:\", compute_fitness(sorted_population[m-1]))        \n",
        "    \n",
        "    new_population = []\n",
        "    while len(new_population) < m:\n",
        "        # step 3: selection\n",
        "        individual_s1 = selection(sorted_population)\n",
        "        individual_s2 = selection(sorted_population) # duplication\n",
        "        \n",
        "        # step 4: crossover\n",
        "        individual_c1, individual_c2 = crossover(individual_s1, individual_s2)\n",
        "        \n",
        "        # step 5: mutation\n",
        "        individual_m1 = mutate(individual_c1)\n",
        "        individual_m2 = mutate(individual_c2)\n",
        "        \n",
        "        new_population.append(individual_m1)\n",
        "        new_population.append(individual_m2)\n",
        "        \n",
        "    # update population\n",
        "    population = new_population"
      ],
      "id": "fb3ace4b",
      "execution_count": 36,
      "outputs": [
        {
          "output_type": "stream",
          "name": "stdout",
          "text": [
            "BEST: 21\n",
            "BEST: 22\n",
            "BEST: 23\n",
            "BEST: 24\n",
            "BEST: 25\n",
            "BEST: 26\n",
            "BEST: 26\n",
            "BEST: 27\n",
            "BEST: 27\n",
            "BEST: 28\n",
            "BEST: 28\n",
            "BEST: 27\n",
            "BEST: 28\n",
            "BEST: 28\n",
            "BEST: 29\n",
            "BEST: 29\n",
            "BEST: 29\n",
            "BEST: 29\n",
            "BEST: 29\n",
            "BEST: 30\n",
            "BEST: 30\n",
            "BEST: 30\n",
            "BEST: 29\n",
            "BEST: 30\n",
            "BEST: 30\n",
            "BEST: 30\n",
            "BEST: 30\n",
            "BEST: 30\n",
            "BEST: 30\n",
            "BEST: 30\n"
          ]
        }
      ]
    },
    {
      "cell_type": "code",
      "metadata": {
        "id": "ad7b91cf",
        "colab": {
          "base_uri": "https://localhost:8080/"
        },
        "outputId": "dab7b13e-d4e3-47f0-b955-65605ee3600d"
      },
      "source": [
        "sorted_population = sorted(population, key=compute_fitness)\n",
        "individual_best = sorted_population[m-1]\n",
        "print(individual_best)"
      ],
      "id": "ad7b91cf",
      "execution_count": 37,
      "outputs": [
        {
          "output_type": "stream",
          "name": "stdout",
          "text": [
            "[1, 1, 1, 1, 1, 1, 1, 1, 1, 1, 1, 1, 1, 1, 1, 1, 1, 1, 1, 1, 1, 1, 1, 1, 1, 1, 1, 1, 1, 1]\n"
          ]
        }
      ]
    },
    {
      "cell_type": "code",
      "metadata": {
        "id": "605534d8",
        "colab": {
          "base_uri": "https://localhost:8080/",
          "height": 278
        },
        "outputId": "d70528b8-2e31-43bc-fd23-88c0b2d4a78a"
      },
      "source": [
        "import matplotlib.pyplot as plt\n",
        "\n",
        "plt.plot(fitnesses)\n",
        "plt.xlabel('Generations')\n",
        "plt.ylabel('Fitness')\n",
        "plt.show()"
      ],
      "id": "605534d8",
      "execution_count": 38,
      "outputs": [
        {
          "output_type": "display_data",
          "data": {
            "image/png": "[encoded data removed]",
            "text/plain": [
              "<Figure size 432x288 with 1 Axes>"
            ]
          },
          "metadata": {
            "needs_background": "light"
          }
        }
      ]
    },
    {
      "cell_type": "code",
      "metadata": {
        "id": "e881f48b"
      },
      "source": [
        ""
      ],
      "id": "e881f48b",
      "execution_count": 34,
      "outputs": []
    },
    {
      "cell_type": "code",
      "metadata": {
        "id": "402a51a3",
        "colab": {
          "base_uri": "https://localhost:8080/"
        },
        "outputId": "e240178f-0894-4634-9069-2edfdfa386bf"
      },
      "source": [
        "# Elitisim\n",
        "\n",
        "import random\n",
        "\n",
        "n = 30                 # size of individual (chromosome)\n",
        "m = 100                # size of population\n",
        "\n",
        "# để vẽ biểu đồ quá trình tối ưu\n",
        "fitnesses = []\n",
        "\n",
        "# generate a feasible value\n",
        "def generate_random_value():\n",
        "    return random.randint(0, 1)\n",
        "\n",
        "def create_individual():\n",
        "    return [generate_random_value() for _ in range(n)]\n",
        "\n",
        "# evaluate an individual\n",
        "def compute_fitness(individual):\n",
        "    return sum(individual)\n",
        "\n",
        "# crossover\n",
        "def crossover(individual1, individual2, crossover_rate=0.9):\n",
        "    individual1_new = individual1.copy()\n",
        "    individual2_new = individual2.copy()\n",
        "    \n",
        "    for i in range(n):\n",
        "        if random.random() < crossover_rate:\n",
        "            individual1_new[i] = individual2[i]\n",
        "            individual2_new[i] = individual1[i]            \n",
        "    \n",
        "    return individual1_new, individual2_new\n",
        "\n",
        "# mutatation\n",
        "def mutate(individual, mutation_rate=0.05):\n",
        "    individual_m = individual.copy()\n",
        "    \n",
        "    for i in range(n):\n",
        "        if random.random() < mutation_rate:\n",
        "            individual_m[i] = generate_random_value()\n",
        "        \n",
        "    return individual_m\n",
        "\n",
        "# selection; input population is sorted according to fitnesses\n",
        "def selection(sorted_old_population):    \n",
        "    index1 = random.randint(0, m-1)\n",
        "    index2 = random.randint(0, m-1)\n",
        "    \n",
        "    # check until index2 != index1\n",
        "    while index2 == index1:\n",
        "        index2 = random.randint(0, m-1)\n",
        "            \n",
        "    individual_s = sorted_old_population[index1]\n",
        "    if index2 > index1:\n",
        "        individual_s = sorted_old_population[index2]\n",
        "    \n",
        "    return individual_s \n",
        "\n",
        "\n",
        "##### algorithm\n",
        "# step 1: create initial population\n",
        "population = [create_individual() for _ in range(m)]\n",
        "\n",
        "#==== loops\n",
        "n_generations = 30     # number of generations\n",
        "elitism = 2\n",
        "for i in range(n_generations):\n",
        "    # step 2: sort population\n",
        "    sorted_population = sorted(population, key=compute_fitness)\n",
        "        \n",
        "    # for debug\n",
        "    fitnesses.append(compute_fitness(sorted_population[m-1]))\n",
        "    print(\"BEST:\", compute_fitness(sorted_population[m-1]))      \n",
        "    \n",
        "    # create new_population\n",
        "    new_population = sorted_population[-elitism:]   \n",
        "    \n",
        "    while len(new_population) < m:\n",
        "        # step 3: selection\n",
        "        individual_s1 = selection(sorted_population)\n",
        "        individual_s2 = selection(sorted_population) # duplication\n",
        "        \n",
        "        # step 4: crossover\n",
        "        individual_c1, individual_c2 = crossover(individual_s1, individual_s2)\n",
        "        \n",
        "        # step 5: mutation\n",
        "        individual_m1 = mutate(individual_c1)\n",
        "        individual_m2 = mutate(individual_c2)\n",
        "        \n",
        "        new_population.append(individual_m1)\n",
        "        new_population.append(individual_m2)\n",
        "        \n",
        "    # update population\n",
        "    population = new_population"
      ],
      "id": "402a51a3",
      "execution_count": 39,
      "outputs": [
        {
          "output_type": "stream",
          "name": "stdout",
          "text": [
            "BEST: 20\n",
            "BEST: 21\n",
            "BEST: 22\n",
            "BEST: 23\n",
            "BEST: 24\n",
            "BEST: 25\n",
            "BEST: 26\n",
            "BEST: 26\n",
            "BEST: 27\n",
            "BEST: 28\n",
            "BEST: 28\n",
            "BEST: 28\n",
            "BEST: 28\n",
            "BEST: 29\n",
            "BEST: 29\n",
            "BEST: 30\n",
            "BEST: 30\n",
            "BEST: 30\n",
            "BEST: 30\n",
            "BEST: 30\n",
            "BEST: 30\n",
            "BEST: 30\n",
            "BEST: 30\n",
            "BEST: 30\n",
            "BEST: 30\n",
            "BEST: 30\n",
            "BEST: 30\n",
            "BEST: 30\n",
            "BEST: 30\n",
            "BEST: 30\n"
          ]
        }
      ]
    },
    {
      "cell_type": "code",
      "metadata": {
        "id": "55147951",
        "colab": {
          "base_uri": "https://localhost:8080/",
          "height": 278
        },
        "outputId": "71c98986-21e1-4a25-df41-392b6c5236fa"
      },
      "source": [
        "import matplotlib.pyplot as plt\n",
        "\n",
        "plt.plot(fitnesses)\n",
        "plt.xlabel('Generations')\n",
        "plt.ylabel('Fitness')\n",
        "plt.show()"
      ],
      "id": "55147951",
      "execution_count": 40,
      "outputs": [
        {
          "output_type": "display_data",
          "data": {
            "image/png": "[encoded data removed]",
            "text/plain": [
              "<Figure size 432x288 with 1 Axes>"
            ]
          },
          "metadata": {
            "needs_background": "light"
          }
        }
      ]
    },
    {
      "cell_type": "code",
      "metadata": {
        "id": "b7ce55f4"
      },
      "source": [
        ""
      ],
      "id": "b7ce55f4",
      "execution_count": 21,
      "outputs": []
    }
  ]
}